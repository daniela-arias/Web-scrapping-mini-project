{
 "cells": [
  {
   "cell_type": "code",
   "execution_count": 53,
   "id": "24ad42aa",
   "metadata": {},
   "outputs": [],
   "source": [
    "import sys\n",
    "sys.path.append('../')"
   ]
  },
  {
   "cell_type": "code",
   "execution_count": 54,
   "id": "03ec9e39",
   "metadata": {},
   "outputs": [],
   "source": [
    "from selenium import webdriver\n",
    "from selenium.webdriver.chrome.options import Options\n",
    "import time\n",
    "import pandas as pd\n",
    "from selenium.webdriver.support.ui import Select\n",
    "from webdriver_manager.chrome import ChromeDriverManager\n",
    "import src.cleaning_functions as fc\n",
    "import requests\n",
    "from bs4 import BeautifulSoup"
   ]
  },
  {
   "cell_type": "code",
   "execution_count": 13,
   "id": "07e6535f",
   "metadata": {},
   "outputs": [],
   "source": [
    "opciones=Options()\n",
    "\n",
    "opciones.add_experimental_option('excludeSwitches', ['enable-automation'])\n",
    "opciones.add_experimental_option('useAutomationExtension', False)\n",
    "\n",
    "opciones.headless=False    \n",
    "\n",
    "opciones.add_argument('--start-maximized')       \n",
    "\n",
    "opciones.add_argument('user-data-dir=selenium')    # mantiene las cookies\n",
    "\n",
    "#opciones.add_extension('driver_folder/adblock.crx')       # adblocker\n",
    "\n",
    "opciones.add_argument('--incognito')              # incognito"
   ]
  },
  {
   "cell_type": "code",
   "execution_count": 14,
   "id": "a1cc325c",
   "metadata": {},
   "outputs": [
    {
     "name": "stderr",
     "output_type": "stream",
     "text": [
      "\n",
      "\n",
      "====== WebDriver manager ======\n",
      "Current google-chrome version is 96.0.4664\n",
      "Get LATEST chromedriver version for 96.0.4664 google-chrome\n",
      "Driver [/Users/danielaarias/.wdm/drivers/chromedriver/mac64/96.0.4664.45/chromedriver] found in cache\n",
      "<ipython-input-14-676912f8f31f>:2: DeprecationWarning: executable_path has been deprecated, please pass in a Service object\n",
      "  driver = webdriver.Chrome(ChromeDriverManager().install(), options = opciones)\n",
      "<ipython-input-14-676912f8f31f>:12: DeprecationWarning: find_element_by_* commands are deprecated. Please use find_element() instead\n",
      "  driver.find_element_by_css_selector(\"#onetrust-accept-btn-handler\").click()\n",
      "<ipython-input-14-676912f8f31f>:16: DeprecationWarning: find_element_by_* commands are deprecated. Please use find_element() instead\n",
      "  driver.find_element_by_css_selector(\"#page-content > div > div:nth-child(4) > div.load-more-products > button\").click()\n",
      "<ipython-input-14-676912f8f31f>:18: DeprecationWarning: find_element_by_* commands are deprecated. Please use find_element() instead\n",
      "  driver.find_element_by_css_selector(\"#page-content > div > div:nth-child(4) > div.load-more-products > button\").click()\n",
      "<ipython-input-14-676912f8f31f>:20: DeprecationWarning: find_element_by_* commands are deprecated. Please use find_element() instead\n",
      "  driver.find_element_by_css_selector(\"#page-content > div > div:nth-child(4) > div.load-more-products > button\").click()\n",
      "<ipython-input-14-676912f8f31f>:24: DeprecationWarning: find_element_by_* commands are deprecated. Please use find_element() instead\n",
      "  precio.append(driver.find_element_by_css_selector(f\"#page-content > div > div:nth-child(4) > ul > li:nth-child({i}) > article > div.item-details > strong > span\").text)\n",
      "<ipython-input-14-676912f8f31f>:25: DeprecationWarning: find_element_by_* commands are deprecated. Please use find_element() instead\n",
      "  producto.append(driver.find_element_by_css_selector(f\"#page-content > div > div:nth-child(4) > ul > li:nth-child({i}) > article > div.item-details > h3 > a\").text)\n"
     ]
    }
   ],
   "source": [
    "# download the driver \n",
    "driver = webdriver.Chrome(ChromeDriverManager().install(), options = opciones)\n",
    "\n",
    "# set the url\n",
    "url2 = \"https://www2.hm.com/es_es/mujer/novedades/calzado-y-accesorios.html\"\n",
    "\n",
    "# request the url\n",
    "driver.get(url2)\n",
    "\n",
    "driver.implicitly_wait(15) # is like a time.sleep but specific of selenium\n",
    "\n",
    "driver.find_element_by_css_selector(\"#onetrust-accept-btn-handler\").click()\n",
    "producto = []\n",
    "precio = []\n",
    "\n",
    "driver.find_element_by_css_selector(\"#page-content > div > div:nth-child(4) > div.load-more-products > button\").click()\n",
    "driver.implicitly_wait(20)\n",
    "driver.find_element_by_css_selector(\"#page-content > div > div:nth-child(4) > div.load-more-products > button\").click()\n",
    "driver.implicitly_wait(20)\n",
    "driver.find_element_by_css_selector(\"#page-content > div > div:nth-child(4) > div.load-more-products > button\").click()\n",
    "driver.implicitly_wait(20)\n",
    "\n",
    "for i in range(1,129):\n",
    "        precio.append(driver.find_element_by_css_selector(f\"#page-content > div > div:nth-child(4) > ul > li:nth-child({i}) > article > div.item-details > strong > span\").text)\n",
    "        producto.append(driver.find_element_by_css_selector(f\"#page-content > div > div:nth-child(4) > ul > li:nth-child({i}) > article > div.item-details > h3 > a\").text)\n"
   ]
  },
  {
   "cell_type": "code",
   "execution_count": 87,
   "id": "9063c0e6",
   "metadata": {
    "scrolled": false
   },
   "outputs": [
    {
     "name": "stdout",
     "output_type": "stream",
     "text": [
      "['14,99 €', '49,99 €', '9,99 €', '59,99 €', '59,99 €', '29,99 €', '39,99 €', '14,99 €', '39,99 €', '89,99 €', '89,99 €', '34,99 €', '19,99 €', '9,99 €', '9,99 €', '34,99 €', '9,99 €', '9,99 €', '19,99 €', '5,99 €', '29,99 €', '19,99 €', '39,99 €', '24,99 €', '34,99 €', '34,99 €', '19,99 €', '89,99 €', '44,99 €', '9,99 €', '14,99 €', '9,99 €', '39,99 €', '14,99 €', '69,99 €', '19,99 €', '34,99 €', '7,99 €', '34,99 €', '24,99 €', '34,99 €', '9,99 €', '4,99 €', '29,99 €', '6,99 €', '14,99 €', '9,99 €', '14,99 €', '9,99 €', '6,99 €', '19,99 €', '7,99 €', '4,99 €', '3,99 €', '6,99 €', '3,99 €', '19,99 €', '6,99 €', '9,99 €', '29,99 €', '9,99 €', '7,99 €', '7,99 €', '14,99 €', '7,99 €', '7,99 €', '12,99 €', '6,99 €', '7,99 €', '14,99 €', '12,99 €', '14,99 €', '14,99 €', '12,99 €', '9,99 €', '9,99 €', '9,99 €', '9,99 €', '14,99 €', '7,99 €', '7,99 €', '2,99 €', '29,99 €', '7,99 €', '14,99 €', '34,99 €', '14,99 €', '14,99 €', '24,99 €', '14,99 €', '5,99 €', '44,99 €', '24,99 €', '17,99 €', '34,99 €', '9,99 €', '14,99 €', '7,99 €', '14,99 €', '29,99 €', '7,99 €', '29,99 €', '9,99 €', '9,99 €', '39,99 €', '17,99 €', '149,00 €', '19,99 €', '59,99 €', '9,99 €', '9,99 €', '9,99 €', '29,99 €', '7,99 €', '14,99 €', '17,99 €', '149,00 €', '14,99 €', '9,99 €', '5,99 €', '9,99 €', '12,99 €', '4,99 €', '14,99 €', '4,99 €', '12,99 €', '7,99 €', '19,99 €']\n"
     ]
    }
   ],
   "source": [
    "print(precio)"
   ]
  },
  {
   "cell_type": "code",
   "execution_count": 15,
   "id": "c9dfa9e3",
   "metadata": {},
   "outputs": [
    {
     "data": {
      "text/plain": [
       "128"
      ]
     },
     "execution_count": 15,
     "metadata": {},
     "output_type": "execute_result"
    }
   ],
   "source": [
    "len(precio)"
   ]
  },
  {
   "cell_type": "code",
   "execution_count": 34,
   "id": "e8f02f9f",
   "metadata": {},
   "outputs": [
    {
     "data": {
      "text/plain": [
       "128"
      ]
     },
     "execution_count": 34,
     "metadata": {},
     "output_type": "execute_result"
    }
   ],
   "source": [
    "len(producto)"
   ]
  },
  {
   "cell_type": "code",
   "execution_count": 16,
   "id": "b0f6c66d",
   "metadata": {},
   "outputs": [],
   "source": [
    "df = pd.DataFrame(precio,producto).reset_index()"
   ]
  },
  {
   "cell_type": "code",
   "execution_count": 17,
   "id": "6b2f2497",
   "metadata": {},
   "outputs": [
    {
     "data": {
      "text/html": [
       "<div>\n",
       "<style scoped>\n",
       "    .dataframe tbody tr th:only-of-type {\n",
       "        vertical-align: middle;\n",
       "    }\n",
       "\n",
       "    .dataframe tbody tr th {\n",
       "        vertical-align: top;\n",
       "    }\n",
       "\n",
       "    .dataframe thead th {\n",
       "        text-align: right;\n",
       "    }\n",
       "</style>\n",
       "<table border=\"1\" class=\"dataframe\">\n",
       "  <thead>\n",
       "    <tr style=\"text-align: right;\">\n",
       "      <th></th>\n",
       "      <th>index</th>\n",
       "      <th>0</th>\n",
       "    </tr>\n",
       "  </thead>\n",
       "  <tbody>\n",
       "    <tr>\n",
       "      <th>0</th>\n",
       "      <td>Bolso bandolera pequeño</td>\n",
       "      <td>14,99 €</td>\n",
       "    </tr>\n",
       "    <tr>\n",
       "      <th>1</th>\n",
       "      <td>Mochila con cordón de ajuste</td>\n",
       "      <td>49,99 €</td>\n",
       "    </tr>\n",
       "  </tbody>\n",
       "</table>\n",
       "</div>"
      ],
      "text/plain": [
       "                          index        0\n",
       "0       Bolso bandolera pequeño  14,99 €\n",
       "1  Mochila con cordón de ajuste  49,99 €"
      ]
     },
     "execution_count": 17,
     "metadata": {},
     "output_type": "execute_result"
    }
   ],
   "source": [
    "df.head(2)"
   ]
  },
  {
   "cell_type": "code",
   "execution_count": 18,
   "id": "963c9068",
   "metadata": {},
   "outputs": [],
   "source": [
    "renombrar = {\"index\": \"Producto\", 0:\"Precio\"}"
   ]
  },
  {
   "cell_type": "code",
   "execution_count": 19,
   "id": "e82935ca",
   "metadata": {},
   "outputs": [],
   "source": [
    "df.rename(columns=renombrar, inplace=True)"
   ]
  },
  {
   "cell_type": "code",
   "execution_count": 20,
   "id": "f34ca2a1",
   "metadata": {},
   "outputs": [
    {
     "data": {
      "text/html": [
       "<div>\n",
       "<style scoped>\n",
       "    .dataframe tbody tr th:only-of-type {\n",
       "        vertical-align: middle;\n",
       "    }\n",
       "\n",
       "    .dataframe tbody tr th {\n",
       "        vertical-align: top;\n",
       "    }\n",
       "\n",
       "    .dataframe thead th {\n",
       "        text-align: right;\n",
       "    }\n",
       "</style>\n",
       "<table border=\"1\" class=\"dataframe\">\n",
       "  <thead>\n",
       "    <tr style=\"text-align: right;\">\n",
       "      <th></th>\n",
       "      <th>Producto</th>\n",
       "      <th>Precio</th>\n",
       "    </tr>\n",
       "  </thead>\n",
       "  <tbody>\n",
       "    <tr>\n",
       "      <th>0</th>\n",
       "      <td>Bolso bandolera pequeño</td>\n",
       "      <td>14,99 €</td>\n",
       "    </tr>\n",
       "    <tr>\n",
       "      <th>1</th>\n",
       "      <td>Mochila con cordón de ajuste</td>\n",
       "      <td>49,99 €</td>\n",
       "    </tr>\n",
       "  </tbody>\n",
       "</table>\n",
       "</div>"
      ],
      "text/plain": [
       "                       Producto   Precio\n",
       "0       Bolso bandolera pequeño  14,99 €\n",
       "1  Mochila con cordón de ajuste  49,99 €"
      ]
     },
     "execution_count": 20,
     "metadata": {},
     "output_type": "execute_result"
    }
   ],
   "source": [
    "df.head(2)"
   ]
  },
  {
   "cell_type": "code",
   "execution_count": 21,
   "id": "47e484c8",
   "metadata": {},
   "outputs": [
    {
     "data": {
      "text/plain": [
       "array(['Bolso bandolera pequeño', 'Mochila con cordón de ajuste',\n",
       "       'Gorra en neopreno y malla', 'Botas altas', 'Botas a la rodilla',\n",
       "       'Botas', 'Botas con forro cálido', 'Botines con tacón piramidal',\n",
       "       'Botas Chelsea de piel', 'Botas de piel con forro en borreguito',\n",
       "       'Botas Chelsea', 'Zapatillas de casa cálidas',\n",
       "       'Zapatillas de casa en pelo sintético', 'Paraguas transparente',\n",
       "       'Bufanda de regalo', 'Pack de 2 guantes táctiles',\n",
       "       'Bolso shopper guateado', 'Riñonera acolchada',\n",
       "       'Salones destalonados con puntera fina',\n",
       "       'Bolso bandolera guateado', 'Botas Chelsea gruesas',\n",
       "       'Manoplas acolchadas', '25 pares de pendientes', 'Fular',\n",
       "       'Botas Chelsea con plataforma', 'Bolso en pelo sintético',\n",
       "       'Mocasines con suela gruesa', 'Bailarinas guateadas',\n",
       "       'Botas de nailon con lazada', 'Gorro de punto',\n",
       "       'Cuello alto de cachemira',\n",
       "       'Bolso bandolera pequeño en pelo sintético',\n",
       "       'Bufanda de tubo en canalé', 'Pack de 5 anillos',\n",
       "       'Mules trenzados', '3 pares de pendientes de aro',\n",
       "       'Pasamontañas de punto', 'Gorro de punto fino',\n",
       "       'Pack 3 bandas de resistencia', 'Boina de punto', 'Collar corto',\n",
       "       'Cuello en punto trenzado', 'Collar de dos vueltas con colgante',\n",
       "       'Collar con anillo', '6 ear cuffs',\n",
       "       'Guantes en mezcla de cachemira', 'Gorro y guantes',\n",
       "       'Gorro en punto de canalé', '5 anillos',\n",
       "       'Collar con signo del zodiaco', 'Funda para iPhone con correa',\n",
       "       'Collar de dos vueltas', 'Gorra de deporte',\n",
       "       'Cadena para la mano y anillos', 'Bufanda con flecos',\n",
       "       'Diadema trenzada', 'Cinta para el pelo', 'Pendientes de aro',\n",
       "       'Bolso hobo', 'Sombrero bucket', 'Gorro en canalé de cachemira',\n",
       "       'Mochila', 'Conjunto de accesorios para funda de móvil',\n",
       "       'Botines de plataforma', 'Cuello alto en punto trenzado',\n",
       "       'Capucha de borreguito', 'Boina', 'Gorro polar THERMOLITE®',\n",
       "       'Fleece gloves', 'Manoplas de piel y borreguito',\n",
       "       'Collar de tres vueltas', 'Guantes largos de piel',\n",
       "       'Bolso de velour', 'Bufanda de cachemira',\n",
       "       'Accesorio para el pelo con strass', 'Mules de piel',\n",
       "       'Pinza para el pelo', 'Pack de 4 pinzas para el pelo',\n",
       "       'Capucha reflectante', 'Cinta de pelo en borreguito',\n",
       "       'Bolsa para botella con correa', 'Cinturón guateado',\n",
       "       '6 pares de pendientes de aro',\n",
       "       'Gorro en punto fino con aplicación', 'Cinta de pelo Beauty',\n",
       "       'Sombrero bucket con cordón', '3 pairs hoop earrings',\n",
       "       'Sombrero bucket de velour'], dtype=object)"
      ]
     },
     "execution_count": 21,
     "metadata": {},
     "output_type": "execute_result"
    }
   ],
   "source": [
    "df.Producto.unique()"
   ]
  },
  {
   "cell_type": "code",
   "execution_count": 22,
   "id": "6f26b94e",
   "metadata": {},
   "outputs": [],
   "source": [
    "import re\n",
    "df[\"Categorias\"] = df[\"Producto\"].apply(fc.limpiar)"
   ]
  },
  {
   "cell_type": "code",
   "execution_count": 23,
   "id": "c8bdb1df",
   "metadata": {},
   "outputs": [
    {
     "data": {
      "text/html": [
       "<div>\n",
       "<style scoped>\n",
       "    .dataframe tbody tr th:only-of-type {\n",
       "        vertical-align: middle;\n",
       "    }\n",
       "\n",
       "    .dataframe tbody tr th {\n",
       "        vertical-align: top;\n",
       "    }\n",
       "\n",
       "    .dataframe thead th {\n",
       "        text-align: right;\n",
       "    }\n",
       "</style>\n",
       "<table border=\"1\" class=\"dataframe\">\n",
       "  <thead>\n",
       "    <tr style=\"text-align: right;\">\n",
       "      <th></th>\n",
       "      <th>Producto</th>\n",
       "      <th>Precio</th>\n",
       "      <th>Categorias</th>\n",
       "    </tr>\n",
       "  </thead>\n",
       "  <tbody>\n",
       "    <tr>\n",
       "      <th>0</th>\n",
       "      <td>Bolso bandolera pequeño</td>\n",
       "      <td>14,99 €</td>\n",
       "      <td>Bolso</td>\n",
       "    </tr>\n",
       "    <tr>\n",
       "      <th>1</th>\n",
       "      <td>Mochila con cordón de ajuste</td>\n",
       "      <td>49,99 €</td>\n",
       "      <td>Mochila</td>\n",
       "    </tr>\n",
       "    <tr>\n",
       "      <th>2</th>\n",
       "      <td>Gorra en neopreno y malla</td>\n",
       "      <td>9,99 €</td>\n",
       "      <td>Otros Accesorios</td>\n",
       "    </tr>\n",
       "    <tr>\n",
       "      <th>3</th>\n",
       "      <td>Botas altas</td>\n",
       "      <td>59,99 €</td>\n",
       "      <td>Botas</td>\n",
       "    </tr>\n",
       "    <tr>\n",
       "      <th>4</th>\n",
       "      <td>Botas a la rodilla</td>\n",
       "      <td>59,99 €</td>\n",
       "      <td>Botas</td>\n",
       "    </tr>\n",
       "  </tbody>\n",
       "</table>\n",
       "</div>"
      ],
      "text/plain": [
       "                       Producto   Precio        Categorias\n",
       "0       Bolso bandolera pequeño  14,99 €             Bolso\n",
       "1  Mochila con cordón de ajuste  49,99 €           Mochila\n",
       "2     Gorra en neopreno y malla   9,99 €  Otros Accesorios\n",
       "3                   Botas altas  59,99 €             Botas\n",
       "4            Botas a la rodilla  59,99 €             Botas"
      ]
     },
     "execution_count": 23,
     "metadata": {},
     "output_type": "execute_result"
    }
   ],
   "source": [
    "df.head()"
   ]
  },
  {
   "cell_type": "code",
   "execution_count": 24,
   "id": "ffbbfebd",
   "metadata": {},
   "outputs": [
    {
     "data": {
      "text/plain": [
       "Otros Accesorios      43\n",
       "Botas                 16\n",
       "Gorro                 15\n",
       "Bolso                  8\n",
       "Pendientes             7\n",
       "Accesorios cabello     6\n",
       "Anillos                5\n",
       "Bufanda                5\n",
       "Boina                  4\n",
       "Guantes                4\n",
       "Zapatillas             4\n",
       "Sombrero               3\n",
       "Mochila                2\n",
       "Mules                  2\n",
       "Botines                2\n",
       "Bailarinas             1\n",
       "Paraguas               1\n",
       "Name: Categorias, dtype: int64"
      ]
     },
     "execution_count": 24,
     "metadata": {},
     "output_type": "execute_result"
    }
   ],
   "source": [
    "df.Categorias.value_counts()"
   ]
  },
  {
   "cell_type": "code",
   "execution_count": null,
   "id": "2573fe97",
   "metadata": {},
   "outputs": [],
   "source": [
    "#Por algun motivo no puedo llamar a esta segunda funcion desde mi .py"
   ]
  },
  {
   "cell_type": "code",
   "execution_count": 84,
   "id": "c43a4949",
   "metadata": {},
   "outputs": [],
   "source": [
    "def convertir(i):\n",
    "        return float(i.split(\" \")[0].replace(\",\", \".\"))"
   ]
  },
  {
   "cell_type": "code",
   "execution_count": 85,
   "id": "5c01fd74",
   "metadata": {},
   "outputs": [
    {
     "ename": "AttributeError",
     "evalue": "'float' object has no attribute 'split'",
     "output_type": "error",
     "traceback": [
      "\u001b[0;31m---------------------------------------------------------------------------\u001b[0m",
      "\u001b[0;31mAttributeError\u001b[0m                            Traceback (most recent call last)",
      "\u001b[0;32m<ipython-input-85-9e90128f5eeb>\u001b[0m in \u001b[0;36m<module>\u001b[0;34m\u001b[0m\n\u001b[0;32m----> 1\u001b[0;31m \u001b[0mdf\u001b[0m\u001b[0;34m[\u001b[0m\u001b[0;34m'Precio'\u001b[0m\u001b[0;34m]\u001b[0m \u001b[0;34m=\u001b[0m \u001b[0mdf\u001b[0m\u001b[0;34m[\u001b[0m\u001b[0;34m'Precio'\u001b[0m\u001b[0;34m]\u001b[0m\u001b[0;34m.\u001b[0m\u001b[0mapply\u001b[0m\u001b[0;34m(\u001b[0m\u001b[0mconvertir\u001b[0m\u001b[0;34m)\u001b[0m\u001b[0;34m\u001b[0m\u001b[0;34m\u001b[0m\u001b[0m\n\u001b[0m",
      "\u001b[0;32m/usr/local/Caskroom/miniconda/base/envs/Ironhack/lib/python3.8/site-packages/pandas/core/series.py\u001b[0m in \u001b[0;36mapply\u001b[0;34m(self, func, convert_dtype, args, **kwargs)\u001b[0m\n\u001b[1;32m   4355\u001b[0m         \u001b[0mdtype\u001b[0m\u001b[0;34m:\u001b[0m \u001b[0mfloat64\u001b[0m\u001b[0;34m\u001b[0m\u001b[0;34m\u001b[0m\u001b[0m\n\u001b[1;32m   4356\u001b[0m         \"\"\"\n\u001b[0;32m-> 4357\u001b[0;31m         \u001b[0;32mreturn\u001b[0m \u001b[0mSeriesApply\u001b[0m\u001b[0;34m(\u001b[0m\u001b[0mself\u001b[0m\u001b[0;34m,\u001b[0m \u001b[0mfunc\u001b[0m\u001b[0;34m,\u001b[0m \u001b[0mconvert_dtype\u001b[0m\u001b[0;34m,\u001b[0m \u001b[0margs\u001b[0m\u001b[0;34m,\u001b[0m \u001b[0mkwargs\u001b[0m\u001b[0;34m)\u001b[0m\u001b[0;34m.\u001b[0m\u001b[0mapply\u001b[0m\u001b[0;34m(\u001b[0m\u001b[0;34m)\u001b[0m\u001b[0;34m\u001b[0m\u001b[0;34m\u001b[0m\u001b[0m\n\u001b[0m\u001b[1;32m   4358\u001b[0m \u001b[0;34m\u001b[0m\u001b[0m\n\u001b[1;32m   4359\u001b[0m     def _reduce(\n",
      "\u001b[0;32m/usr/local/Caskroom/miniconda/base/envs/Ironhack/lib/python3.8/site-packages/pandas/core/apply.py\u001b[0m in \u001b[0;36mapply\u001b[0;34m(self)\u001b[0m\n\u001b[1;32m   1041\u001b[0m             \u001b[0;32mreturn\u001b[0m \u001b[0mself\u001b[0m\u001b[0;34m.\u001b[0m\u001b[0mapply_str\u001b[0m\u001b[0;34m(\u001b[0m\u001b[0;34m)\u001b[0m\u001b[0;34m\u001b[0m\u001b[0;34m\u001b[0m\u001b[0m\n\u001b[1;32m   1042\u001b[0m \u001b[0;34m\u001b[0m\u001b[0m\n\u001b[0;32m-> 1043\u001b[0;31m         \u001b[0;32mreturn\u001b[0m \u001b[0mself\u001b[0m\u001b[0;34m.\u001b[0m\u001b[0mapply_standard\u001b[0m\u001b[0;34m(\u001b[0m\u001b[0;34m)\u001b[0m\u001b[0;34m\u001b[0m\u001b[0;34m\u001b[0m\u001b[0m\n\u001b[0m\u001b[1;32m   1044\u001b[0m \u001b[0;34m\u001b[0m\u001b[0m\n\u001b[1;32m   1045\u001b[0m     \u001b[0;32mdef\u001b[0m \u001b[0magg\u001b[0m\u001b[0;34m(\u001b[0m\u001b[0mself\u001b[0m\u001b[0;34m)\u001b[0m\u001b[0;34m:\u001b[0m\u001b[0;34m\u001b[0m\u001b[0;34m\u001b[0m\u001b[0m\n",
      "\u001b[0;32m/usr/local/Caskroom/miniconda/base/envs/Ironhack/lib/python3.8/site-packages/pandas/core/apply.py\u001b[0m in \u001b[0;36mapply_standard\u001b[0;34m(self)\u001b[0m\n\u001b[1;32m   1097\u001b[0m                 \u001b[0;31m# List[Union[Callable[..., Any], str]]]]]\"; expected\u001b[0m\u001b[0;34m\u001b[0m\u001b[0;34m\u001b[0m\u001b[0;34m\u001b[0m\u001b[0m\n\u001b[1;32m   1098\u001b[0m                 \u001b[0;31m# \"Callable[[Any], Any]\"\u001b[0m\u001b[0;34m\u001b[0m\u001b[0;34m\u001b[0m\u001b[0;34m\u001b[0m\u001b[0m\n\u001b[0;32m-> 1099\u001b[0;31m                 mapped = lib.map_infer(\n\u001b[0m\u001b[1;32m   1100\u001b[0m                     \u001b[0mvalues\u001b[0m\u001b[0;34m,\u001b[0m\u001b[0;34m\u001b[0m\u001b[0;34m\u001b[0m\u001b[0m\n\u001b[1;32m   1101\u001b[0m                     \u001b[0mf\u001b[0m\u001b[0;34m,\u001b[0m  \u001b[0;31m# type: ignore[arg-type]\u001b[0m\u001b[0;34m\u001b[0m\u001b[0;34m\u001b[0m\u001b[0m\n",
      "\u001b[0;32m/usr/local/Caskroom/miniconda/base/envs/Ironhack/lib/python3.8/site-packages/pandas/_libs/lib.pyx\u001b[0m in \u001b[0;36mpandas._libs.lib.map_infer\u001b[0;34m()\u001b[0m\n",
      "\u001b[0;32m<ipython-input-84-37e9750de81f>\u001b[0m in \u001b[0;36mconvertir\u001b[0;34m(i)\u001b[0m\n\u001b[1;32m      1\u001b[0m \u001b[0;32mdef\u001b[0m \u001b[0mconvertir\u001b[0m\u001b[0;34m(\u001b[0m\u001b[0mi\u001b[0m\u001b[0;34m)\u001b[0m\u001b[0;34m:\u001b[0m\u001b[0;34m\u001b[0m\u001b[0;34m\u001b[0m\u001b[0m\n\u001b[0;32m----> 2\u001b[0;31m         \u001b[0;32mreturn\u001b[0m \u001b[0mfloat\u001b[0m\u001b[0;34m(\u001b[0m\u001b[0mi\u001b[0m\u001b[0;34m.\u001b[0m\u001b[0msplit\u001b[0m\u001b[0;34m(\u001b[0m\u001b[0;34m\" \"\u001b[0m\u001b[0;34m)\u001b[0m\u001b[0;34m[\u001b[0m\u001b[0;36m0\u001b[0m\u001b[0;34m]\u001b[0m\u001b[0;34m.\u001b[0m\u001b[0mreplace\u001b[0m\u001b[0;34m(\u001b[0m\u001b[0;34m\",\"\u001b[0m\u001b[0;34m,\u001b[0m \u001b[0;34m\".\"\u001b[0m\u001b[0;34m)\u001b[0m\u001b[0;34m)\u001b[0m\u001b[0;34m\u001b[0m\u001b[0;34m\u001b[0m\u001b[0m\n\u001b[0m",
      "\u001b[0;31mAttributeError\u001b[0m: 'float' object has no attribute 'split'"
     ]
    }
   ],
   "source": [
    "df['Precio'] = df['Precio'].apply(convertir)"
   ]
  },
  {
   "cell_type": "code",
   "execution_count": 86,
   "id": "856f2c0c",
   "metadata": {},
   "outputs": [
    {
     "data": {
      "text/html": [
       "<div>\n",
       "<style scoped>\n",
       "    .dataframe tbody tr th:only-of-type {\n",
       "        vertical-align: middle;\n",
       "    }\n",
       "\n",
       "    .dataframe tbody tr th {\n",
       "        vertical-align: top;\n",
       "    }\n",
       "\n",
       "    .dataframe thead th {\n",
       "        text-align: right;\n",
       "    }\n",
       "</style>\n",
       "<table border=\"1\" class=\"dataframe\">\n",
       "  <thead>\n",
       "    <tr style=\"text-align: right;\">\n",
       "      <th></th>\n",
       "      <th>Producto</th>\n",
       "      <th>Precio</th>\n",
       "      <th>Categorias</th>\n",
       "    </tr>\n",
       "  </thead>\n",
       "  <tbody>\n",
       "    <tr>\n",
       "      <th>0</th>\n",
       "      <td>Bolso bandolera pequeño</td>\n",
       "      <td>14.99</td>\n",
       "      <td>Bolso</td>\n",
       "    </tr>\n",
       "    <tr>\n",
       "      <th>1</th>\n",
       "      <td>Mochila con cordón de ajuste</td>\n",
       "      <td>49.99</td>\n",
       "      <td>Mochila</td>\n",
       "    </tr>\n",
       "    <tr>\n",
       "      <th>2</th>\n",
       "      <td>Gorra en neopreno y malla</td>\n",
       "      <td>9.99</td>\n",
       "      <td>Otros Accesorios</td>\n",
       "    </tr>\n",
       "    <tr>\n",
       "      <th>3</th>\n",
       "      <td>Botas altas</td>\n",
       "      <td>59.99</td>\n",
       "      <td>Botas</td>\n",
       "    </tr>\n",
       "    <tr>\n",
       "      <th>4</th>\n",
       "      <td>Botas a la rodilla</td>\n",
       "      <td>59.99</td>\n",
       "      <td>Botas</td>\n",
       "    </tr>\n",
       "    <tr>\n",
       "      <th>...</th>\n",
       "      <td>...</td>\n",
       "      <td>...</td>\n",
       "      <td>...</td>\n",
       "    </tr>\n",
       "    <tr>\n",
       "      <th>123</th>\n",
       "      <td>Sombrero bucket con cordón</td>\n",
       "      <td>14.99</td>\n",
       "      <td>Sombrero</td>\n",
       "    </tr>\n",
       "    <tr>\n",
       "      <th>124</th>\n",
       "      <td>3 pairs hoop earrings</td>\n",
       "      <td>4.99</td>\n",
       "      <td>Otros Accesorios</td>\n",
       "    </tr>\n",
       "    <tr>\n",
       "      <th>125</th>\n",
       "      <td>Sombrero bucket de velour</td>\n",
       "      <td>12.99</td>\n",
       "      <td>Sombrero</td>\n",
       "    </tr>\n",
       "    <tr>\n",
       "      <th>126</th>\n",
       "      <td>Pack de 5 anillos</td>\n",
       "      <td>7.99</td>\n",
       "      <td>Anillos</td>\n",
       "    </tr>\n",
       "    <tr>\n",
       "      <th>127</th>\n",
       "      <td>Cuello en punto trenzado</td>\n",
       "      <td>19.99</td>\n",
       "      <td>Otros Accesorios</td>\n",
       "    </tr>\n",
       "  </tbody>\n",
       "</table>\n",
       "<p>128 rows × 3 columns</p>\n",
       "</div>"
      ],
      "text/plain": [
       "                         Producto  Precio        Categorias\n",
       "0         Bolso bandolera pequeño   14.99             Bolso\n",
       "1    Mochila con cordón de ajuste   49.99           Mochila\n",
       "2       Gorra en neopreno y malla    9.99  Otros Accesorios\n",
       "3                     Botas altas   59.99             Botas\n",
       "4              Botas a la rodilla   59.99             Botas\n",
       "..                            ...     ...               ...\n",
       "123    Sombrero bucket con cordón   14.99          Sombrero\n",
       "124         3 pairs hoop earrings    4.99  Otros Accesorios\n",
       "125     Sombrero bucket de velour   12.99          Sombrero\n",
       "126             Pack de 5 anillos    7.99           Anillos\n",
       "127      Cuello en punto trenzado   19.99  Otros Accesorios\n",
       "\n",
       "[128 rows x 3 columns]"
      ]
     },
     "execution_count": 86,
     "metadata": {},
     "output_type": "execute_result"
    }
   ],
   "source": [
    "df"
   ]
  },
  {
   "cell_type": "code",
   "execution_count": 89,
   "id": "03debf0e",
   "metadata": {},
   "outputs": [],
   "source": [
    "df.to_csv('../Data/Cleaning_ready.csv')"
   ]
  }
 ],
 "metadata": {
  "kernelspec": {
   "display_name": "ironhack",
   "language": "python",
   "name": "ironhack"
  },
  "language_info": {
   "codemirror_mode": {
    "name": "ipython",
    "version": 3
   },
   "file_extension": ".py",
   "mimetype": "text/x-python",
   "name": "python",
   "nbconvert_exporter": "python",
   "pygments_lexer": "ipython3",
   "version": "3.8.10"
  }
 },
 "nbformat": 4,
 "nbformat_minor": 5
}
