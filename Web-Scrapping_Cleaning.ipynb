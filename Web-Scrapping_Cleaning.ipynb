{
 "cells": [
  {
   "cell_type": "code",
   "execution_count": 50,
   "id": "03ec9e39",
   "metadata": {},
   "outputs": [],
   "source": [
    "from selenium import webdriver\n",
    "from selenium.webdriver.chrome.options import Options\n",
    "import time\n",
    "import pandas as pd\n",
    "from selenium.webdriver.support.ui import Select\n",
    "from webdriver_manager.chrome import ChromeDriverManager\n",
    "import src.cleaning_functions as fc"
   ]
  },
  {
   "cell_type": "code",
   "execution_count": 13,
   "id": "07e6535f",
   "metadata": {},
   "outputs": [],
   "source": [
    "opciones=Options()\n",
    "\n",
    "opciones.add_experimental_option('excludeSwitches', ['enable-automation'])\n",
    "opciones.add_experimental_option('useAutomationExtension', False)\n",
    "\n",
    "opciones.headless=False    \n",
    "\n",
    "opciones.add_argument('--start-maximized')       \n",
    "\n",
    "opciones.add_argument('user-data-dir=selenium')    # mantiene las cookies\n",
    "\n",
    "#opciones.add_extension('driver_folder/adblock.crx')       # adblocker\n",
    "\n",
    "opciones.add_argument('--incognito')              # incognito"
   ]
  },
  {
   "cell_type": "code",
   "execution_count": 31,
   "id": "a1cc325c",
   "metadata": {},
   "outputs": [
    {
     "name": "stderr",
     "output_type": "stream",
     "text": [
      "\n",
      "\n",
      "====== WebDriver manager ======\n",
      "Current google-chrome version is 96.0.4664\n",
      "Get LATEST chromedriver version for 96.0.4664 google-chrome\n",
      "Driver [/Users/danielaarias/.wdm/drivers/chromedriver/mac64/96.0.4664.45/chromedriver] found in cache\n",
      "<ipython-input-31-676912f8f31f>:2: DeprecationWarning: executable_path has been deprecated, please pass in a Service object\n",
      "  driver = webdriver.Chrome(ChromeDriverManager().install(), options = opciones)\n",
      "<ipython-input-31-676912f8f31f>:12: DeprecationWarning: find_element_by_* commands are deprecated. Please use find_element() instead\n",
      "  driver.find_element_by_css_selector(\"#onetrust-accept-btn-handler\").click()\n",
      "<ipython-input-31-676912f8f31f>:16: DeprecationWarning: find_element_by_* commands are deprecated. Please use find_element() instead\n",
      "  driver.find_element_by_css_selector(\"#page-content > div > div:nth-child(4) > div.load-more-products > button\").click()\n",
      "<ipython-input-31-676912f8f31f>:18: DeprecationWarning: find_element_by_* commands are deprecated. Please use find_element() instead\n",
      "  driver.find_element_by_css_selector(\"#page-content > div > div:nth-child(4) > div.load-more-products > button\").click()\n",
      "<ipython-input-31-676912f8f31f>:20: DeprecationWarning: find_element_by_* commands are deprecated. Please use find_element() instead\n",
      "  driver.find_element_by_css_selector(\"#page-content > div > div:nth-child(4) > div.load-more-products > button\").click()\n",
      "<ipython-input-31-676912f8f31f>:24: DeprecationWarning: find_element_by_* commands are deprecated. Please use find_element() instead\n",
      "  precio.append(driver.find_element_by_css_selector(f\"#page-content > div > div:nth-child(4) > ul > li:nth-child({i}) > article > div.item-details > strong > span\").text)\n",
      "<ipython-input-31-676912f8f31f>:25: DeprecationWarning: find_element_by_* commands are deprecated. Please use find_element() instead\n",
      "  producto.append(driver.find_element_by_css_selector(f\"#page-content > div > div:nth-child(4) > ul > li:nth-child({i}) > article > div.item-details > h3 > a\").text)\n"
     ]
    }
   ],
   "source": [
    "# download the driver \n",
    "driver = webdriver.Chrome(ChromeDriverManager().install(), options = opciones)\n",
    "\n",
    "# set the url\n",
    "url2 = \"https://www2.hm.com/es_es/mujer/novedades/calzado-y-accesorios.html\"\n",
    "\n",
    "# request the url\n",
    "driver.get(url2)\n",
    "\n",
    "driver.implicitly_wait(15) # is like a time.sleep but specific of selenium\n",
    "\n",
    "driver.find_element_by_css_selector(\"#onetrust-accept-btn-handler\").click()\n",
    "producto = []\n",
    "precio = []\n",
    "\n",
    "driver.find_element_by_css_selector(\"#page-content > div > div:nth-child(4) > div.load-more-products > button\").click()\n",
    "driver.implicitly_wait(20)\n",
    "driver.find_element_by_css_selector(\"#page-content > div > div:nth-child(4) > div.load-more-products > button\").click()\n",
    "driver.implicitly_wait(20)\n",
    "driver.find_element_by_css_selector(\"#page-content > div > div:nth-child(4) > div.load-more-products > button\").click()\n",
    "driver.implicitly_wait(20)\n",
    "\n",
    "for i in range(1,129):\n",
    "        precio.append(driver.find_element_by_css_selector(f\"#page-content > div > div:nth-child(4) > ul > li:nth-child({i}) > article > div.item-details > strong > span\").text)\n",
    "        producto.append(driver.find_element_by_css_selector(f\"#page-content > div > div:nth-child(4) > ul > li:nth-child({i}) > article > div.item-details > h3 > a\").text)\n"
   ]
  },
  {
   "cell_type": "code",
   "execution_count": 35,
   "id": "c9dfa9e3",
   "metadata": {},
   "outputs": [
    {
     "data": {
      "text/plain": [
       "128"
      ]
     },
     "execution_count": 35,
     "metadata": {},
     "output_type": "execute_result"
    }
   ],
   "source": [
    "len(precio)"
   ]
  },
  {
   "cell_type": "code",
   "execution_count": 34,
   "id": "e8f02f9f",
   "metadata": {},
   "outputs": [
    {
     "data": {
      "text/plain": [
       "128"
      ]
     },
     "execution_count": 34,
     "metadata": {},
     "output_type": "execute_result"
    }
   ],
   "source": [
    "len(producto)"
   ]
  },
  {
   "cell_type": "code",
   "execution_count": 40,
   "id": "b0f6c66d",
   "metadata": {},
   "outputs": [],
   "source": [
    "df = pd.DataFrame(precio,producto).reset_index()"
   ]
  },
  {
   "cell_type": "code",
   "execution_count": 45,
   "id": "6b2f2497",
   "metadata": {},
   "outputs": [
    {
     "data": {
      "text/html": [
       "<div>\n",
       "<style scoped>\n",
       "    .dataframe tbody tr th:only-of-type {\n",
       "        vertical-align: middle;\n",
       "    }\n",
       "\n",
       "    .dataframe tbody tr th {\n",
       "        vertical-align: top;\n",
       "    }\n",
       "\n",
       "    .dataframe thead th {\n",
       "        text-align: right;\n",
       "    }\n",
       "</style>\n",
       "<table border=\"1\" class=\"dataframe\">\n",
       "  <thead>\n",
       "    <tr style=\"text-align: right;\">\n",
       "      <th></th>\n",
       "      <th>Producto</th>\n",
       "      <th>Precio</th>\n",
       "    </tr>\n",
       "  </thead>\n",
       "  <tbody>\n",
       "    <tr>\n",
       "      <th>0</th>\n",
       "      <td>Bolso bandolera pequeño</td>\n",
       "      <td>14,99 €</td>\n",
       "    </tr>\n",
       "    <tr>\n",
       "      <th>1</th>\n",
       "      <td>Mochila con cordón de ajuste</td>\n",
       "      <td>49,99 €</td>\n",
       "    </tr>\n",
       "  </tbody>\n",
       "</table>\n",
       "</div>"
      ],
      "text/plain": [
       "                       Producto   Precio\n",
       "0       Bolso bandolera pequeño  14,99 €\n",
       "1  Mochila con cordón de ajuste  49,99 €"
      ]
     },
     "execution_count": 45,
     "metadata": {},
     "output_type": "execute_result"
    }
   ],
   "source": [
    "df.head(2)"
   ]
  },
  {
   "cell_type": "code",
   "execution_count": 42,
   "id": "963c9068",
   "metadata": {},
   "outputs": [],
   "source": [
    "renombrar = {\"index\": \"Producto\", 0:\"Precio\"}"
   ]
  },
  {
   "cell_type": "code",
   "execution_count": 43,
   "id": "e82935ca",
   "metadata": {},
   "outputs": [],
   "source": [
    "df.rename(columns=renombrar, inplace=True)"
   ]
  },
  {
   "cell_type": "code",
   "execution_count": 46,
   "id": "f34ca2a1",
   "metadata": {},
   "outputs": [
    {
     "data": {
      "text/html": [
       "<div>\n",
       "<style scoped>\n",
       "    .dataframe tbody tr th:only-of-type {\n",
       "        vertical-align: middle;\n",
       "    }\n",
       "\n",
       "    .dataframe tbody tr th {\n",
       "        vertical-align: top;\n",
       "    }\n",
       "\n",
       "    .dataframe thead th {\n",
       "        text-align: right;\n",
       "    }\n",
       "</style>\n",
       "<table border=\"1\" class=\"dataframe\">\n",
       "  <thead>\n",
       "    <tr style=\"text-align: right;\">\n",
       "      <th></th>\n",
       "      <th>Producto</th>\n",
       "      <th>Precio</th>\n",
       "    </tr>\n",
       "  </thead>\n",
       "  <tbody>\n",
       "    <tr>\n",
       "      <th>0</th>\n",
       "      <td>Bolso bandolera pequeño</td>\n",
       "      <td>14,99 €</td>\n",
       "    </tr>\n",
       "    <tr>\n",
       "      <th>1</th>\n",
       "      <td>Mochila con cordón de ajuste</td>\n",
       "      <td>49,99 €</td>\n",
       "    </tr>\n",
       "  </tbody>\n",
       "</table>\n",
       "</div>"
      ],
      "text/plain": [
       "                       Producto   Precio\n",
       "0       Bolso bandolera pequeño  14,99 €\n",
       "1  Mochila con cordón de ajuste  49,99 €"
      ]
     },
     "execution_count": 46,
     "metadata": {},
     "output_type": "execute_result"
    }
   ],
   "source": [
    "df.head(2)"
   ]
  },
  {
   "cell_type": "code",
   "execution_count": 49,
   "id": "47e484c8",
   "metadata": {},
   "outputs": [
    {
     "data": {
      "text/plain": [
       "array(['Bolso bandolera pequeño', 'Mochila con cordón de ajuste',\n",
       "       'Gorra en neopreno y malla', 'Botas altas', 'Botas a la rodilla',\n",
       "       'Botas', 'Botas con forro cálido', 'Botas Chelsea de piel',\n",
       "       'Botas de piel con forro en borreguito',\n",
       "       'Zapatillas de casa cálidas',\n",
       "       'Zapatillas de casa en pelo sintético', 'Botas Chelsea',\n",
       "       'Botines con tacón piramidal', 'Bufanda de regalo',\n",
       "       'Pack de 2 guantes táctiles', 'Riñonera acolchada',\n",
       "       'Paraguas transparente', 'Bolso shopper guateado',\n",
       "       'Salones destalonados con puntera fina',\n",
       "       'Bolso bandolera guateado', 'Botas Chelsea gruesas',\n",
       "       'Manoplas acolchadas', '25 pares de pendientes', 'Fular',\n",
       "       'Botas Chelsea con plataforma', 'Bolso en pelo sintético',\n",
       "       'Mocasines con suela gruesa', 'Bailarinas guateadas',\n",
       "       'Botas de nailon con lazada', 'Gorro de punto',\n",
       "       'Cuello alto de cachemira',\n",
       "       'Bolso bandolera pequeño en pelo sintético',\n",
       "       'Bufanda de tubo en canalé', 'Pack de 5 anillos',\n",
       "       'Mules trenzados', '3 pares de pendientes de aro',\n",
       "       'Pasamontañas de punto', 'Gorro de punto fino',\n",
       "       'Pack 3 bandas de resistencia', 'Boina de punto', 'Collar corto',\n",
       "       'Cuello en punto trenzado', 'Collar de dos vueltas con colgante',\n",
       "       'Collar con anillo', '6 ear cuffs',\n",
       "       'Guantes en mezcla de cachemira', 'Gorro y guantes',\n",
       "       'Gorro en punto de canalé', '5 anillos',\n",
       "       'Collar con signo del zodiaco', 'Funda para iPhone con correa',\n",
       "       'Collar de dos vueltas', 'Gorra de deporte',\n",
       "       'Cadena para la mano y anillos', 'Bufanda con flecos',\n",
       "       'Diadema trenzada', 'Cinta para el pelo', 'Pendientes de aro',\n",
       "       'Bolso hobo', 'Sombrero bucket', 'Mochila',\n",
       "       'Gorro en canalé de cachemira',\n",
       "       'Conjunto de accesorios para funda de móvil',\n",
       "       'Botines de plataforma', 'Cuello alto en punto trenzado',\n",
       "       'Capucha de borreguito', 'Boina', 'Manoplas de piel y borreguito',\n",
       "       'Gorro polar THERMOLITE®', 'Guantes largos de piel',\n",
       "       'Collar de tres vueltas', 'Bolso de velour', 'Mules de piel',\n",
       "       'Bolsa para botella con correa', 'Pack de 4 pinzas para el pelo',\n",
       "       'Bufanda de cachemira', 'Cinturón guateado',\n",
       "       'Cinta de pelo en borreguito', 'Pinza para el pelo',\n",
       "       'Fleece gloves', 'Gorro en punto fino con aplicación',\n",
       "       'Accesorio para el pelo con strass',\n",
       "       '6 pares de pendientes de aro', 'Cinta de pelo Beauty',\n",
       "       'Capucha reflectante', '3 pairs hoop earrings',\n",
       "       'Sombrero bucket de velour', 'Sombrero bucket con cordón'],\n",
       "      dtype=object)"
      ]
     },
     "execution_count": 49,
     "metadata": {},
     "output_type": "execute_result"
    }
   ],
   "source": [
    "df.Producto.unique()"
   ]
  },
  {
   "cell_type": "code",
   "execution_count": 53,
   "id": "6f26b94e",
   "metadata": {},
   "outputs": [],
   "source": [
    "import re\n",
    "df[\"Categorias\"] = df[\"Producto\"].apply(fc.limpiar)"
   ]
  },
  {
   "cell_type": "code",
   "execution_count": 56,
   "id": "c8bdb1df",
   "metadata": {},
   "outputs": [
    {
     "data": {
      "text/html": [
       "<div>\n",
       "<style scoped>\n",
       "    .dataframe tbody tr th:only-of-type {\n",
       "        vertical-align: middle;\n",
       "    }\n",
       "\n",
       "    .dataframe tbody tr th {\n",
       "        vertical-align: top;\n",
       "    }\n",
       "\n",
       "    .dataframe thead th {\n",
       "        text-align: right;\n",
       "    }\n",
       "</style>\n",
       "<table border=\"1\" class=\"dataframe\">\n",
       "  <thead>\n",
       "    <tr style=\"text-align: right;\">\n",
       "      <th></th>\n",
       "      <th>Producto</th>\n",
       "      <th>Precio</th>\n",
       "      <th>Categorias</th>\n",
       "    </tr>\n",
       "  </thead>\n",
       "  <tbody>\n",
       "    <tr>\n",
       "      <th>0</th>\n",
       "      <td>Bolso bandolera pequeño</td>\n",
       "      <td>14,99 €</td>\n",
       "      <td>Bolso</td>\n",
       "    </tr>\n",
       "    <tr>\n",
       "      <th>1</th>\n",
       "      <td>Mochila con cordón de ajuste</td>\n",
       "      <td>49,99 €</td>\n",
       "      <td>Mochila</td>\n",
       "    </tr>\n",
       "    <tr>\n",
       "      <th>2</th>\n",
       "      <td>Gorra en neopreno y malla</td>\n",
       "      <td>9,99 €</td>\n",
       "      <td>Otros Accesorios</td>\n",
       "    </tr>\n",
       "    <tr>\n",
       "      <th>3</th>\n",
       "      <td>Botas altas</td>\n",
       "      <td>59,99 €</td>\n",
       "      <td>Botas</td>\n",
       "    </tr>\n",
       "    <tr>\n",
       "      <th>4</th>\n",
       "      <td>Botas a la rodilla</td>\n",
       "      <td>59,99 €</td>\n",
       "      <td>Botas</td>\n",
       "    </tr>\n",
       "  </tbody>\n",
       "</table>\n",
       "</div>"
      ],
      "text/plain": [
       "                       Producto   Precio        Categorias\n",
       "0       Bolso bandolera pequeño  14,99 €             Bolso\n",
       "1  Mochila con cordón de ajuste  49,99 €           Mochila\n",
       "2     Gorra en neopreno y malla   9,99 €  Otros Accesorios\n",
       "3                   Botas altas  59,99 €             Botas\n",
       "4            Botas a la rodilla  59,99 €             Botas"
      ]
     },
     "execution_count": 56,
     "metadata": {},
     "output_type": "execute_result"
    }
   ],
   "source": [
    "df.head()"
   ]
  },
  {
   "cell_type": "code",
   "execution_count": 58,
   "id": "ffbbfebd",
   "metadata": {},
   "outputs": [
    {
     "data": {
      "text/plain": [
       "Otros Accesorios      43\n",
       "Botas                 16\n",
       "Gorro                 15\n",
       "Bolso                  8\n",
       "Pendientes             7\n",
       "Accesorios cabello     6\n",
       "Bufanda                5\n",
       "Anillos                5\n",
       "Zapatillas             4\n",
       "Guantes                4\n",
       "Boina                  4\n",
       "Sombrero               3\n",
       "Mules                  2\n",
       "Mochila                2\n",
       "Botines                2\n",
       "Bailarinas             1\n",
       "Paraguas               1\n",
       "Name: Categorias, dtype: int64"
      ]
     },
     "execution_count": 58,
     "metadata": {},
     "output_type": "execute_result"
    }
   ],
   "source": [
    "df.Categorias.value_counts()"
   ]
  },
  {
   "cell_type": "code",
   "execution_count": 60,
   "id": "03debf0e",
   "metadata": {},
   "outputs": [],
   "source": [
    "df.to_csv('Data/Cleaning_ready.csv')"
   ]
  }
 ],
 "metadata": {
  "kernelspec": {
   "display_name": "ironhack",
   "language": "python",
   "name": "ironhack"
  },
  "language_info": {
   "codemirror_mode": {
    "name": "ipython",
    "version": 3
   },
   "file_extension": ".py",
   "mimetype": "text/x-python",
   "name": "python",
   "nbconvert_exporter": "python",
   "pygments_lexer": "ipython3",
   "version": "3.8.10"
  }
 },
 "nbformat": 4,
 "nbformat_minor": 5
}
